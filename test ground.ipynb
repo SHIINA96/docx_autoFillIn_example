{
 "cells": [
  {
   "cell_type": "markdown",
   "metadata": {},
   "source": [
    "os.path.split 的使用方法"
   ]
  },
  {
   "cell_type": "code",
   "execution_count": 4,
   "metadata": {},
   "outputs": [
    {
     "name": "stdout",
     "output_type": "stream",
     "text": [
      "Head of 'C:/Users/xxx/Desktop/新建文件夹/12/aa123.pdf:' C:/Users/xxx/Desktop/新建文件夹/12\n",
      "Tail of 'C:/Users/xxx/Desktop/新建文件夹/12/aa123.pdf:' aa123.pdf \n",
      "\n",
      "<class 'tuple'>\n"
     ]
    }
   ],
   "source": [
    "import os\n",
    "\n",
    "path = 'C:/Users/xxx/Desktop/新建文件夹/12/aa123.pdf'\n",
    "head_tail = os.path.split(path)\n",
    "\n",
    "print(\"Head of '% s:'\" % path, head_tail[0]) \n",
    "print(\"Tail of '% s:'\" % path, head_tail[1], \"\\n\") \n",
    "print(type(head_tail))"
   ]
  },
  {
   "cell_type": "markdown",
   "metadata": {},
   "source": [
    "使用 os.path.splitext 进一步分离地址下的文件名与后缀名"
   ]
  },
  {
   "cell_type": "code",
   "execution_count": 3,
   "metadata": {},
   "outputs": [
    {
     "name": "stdout",
     "output_type": "stream",
     "text": [
      "Head of 'C:/Users/xxx/Desktop/新建文件夹/12/ab123.pdf:' ab123\n",
      "Tail of 'C:/Users/xxx/Desktop/新建文件夹/12/ab123.pdf:' .pdf \n",
      "\n",
      "<class 'tuple'>\n"
     ]
    }
   ],
   "source": [
    "import os\n",
    "\n",
    "path = 'C:/Users/xxx/Desktop/新建文件夹/12/ab123.pdf'\n",
    "head_tail = os.path.split(path)\n",
    "\n",
    "file_type = os.path.splitext(head_tail[1])\n",
    "print(\"Head of '% s:'\" % path, file_type[0]) \n",
    "print(\"Tail of '% s:'\" % path, file_type[1], \"\\n\") \n",
    "print(type(file_type))"
   ]
  },
  {
   "cell_type": "markdown",
   "metadata": {},
   "source": [
    "使用正则判断文件名中是否包含数字"
   ]
  },
  {
   "cell_type": "code",
   "execution_count": 4,
   "metadata": {},
   "outputs": [
    {
     "name": "stdout",
     "output_type": "stream",
     "text": [
      "contains digital\n"
     ]
    }
   ],
   "source": [
    "import os, re\n",
    "\n",
    "path = 'C:/Users/xxx/Desktop/新建文件夹/12/ab123.pdf'\n",
    "head_tail = os.path.split(path)\n",
    "\n",
    "pattern = re.compile('[0-9]+')\n",
    "match = pattern.findall(head_tail[1])\n",
    "if match:\n",
    "    print ('contains digital')\n",
    "else:\n",
    "    print ('not contains digital')"
   ]
  },
  {
   "cell_type": "markdown",
   "metadata": {},
   "source": [
    "使用 isdigit 判断字符串是否以数字开头"
   ]
  },
  {
   "cell_type": "code",
   "execution_count": null,
   "metadata": {},
   "outputs": [],
   "source": [
    "import os\n",
    "\n",
    "path = 'C:/Users/xxx/Desktop/新建文件夹/12/ab123.pdf'\n",
    "head_tail = os.path.split(path)\n",
    "\n",
    "if head_tail[1].isdigit():\n",
    "    print('start with digit')\n",
    "else:\n",
    "    print('not start with digit')"
   ]
  },
  {
   "cell_type": "markdown",
   "metadata": {},
   "source": [
    "将文件地址拆分并获取文件夹名称"
   ]
  },
  {
   "cell_type": "code",
   "execution_count": 5,
   "metadata": {},
   "outputs": [
    {
     "name": "stdout",
     "output_type": "stream",
     "text": [
      "['C:', 'Users', 'xxx', 'Desktop', '新建文件夹', '12']\n",
      "12\n"
     ]
    }
   ],
   "source": [
    "import os\n",
    "\n",
    "path = 'C:/Users/xxx/Desktop/新建文件夹/12/ab123.pdf'\n",
    "head_tail = os.path.split(path)\n",
    "\n",
    "head_tail = os.path.split(path)\n",
    "file_dir = head_tail[0].split('/')\n",
    "print(file_dir)\n",
    "print(file_dir[-1])"
   ]
  },
  {
   "cell_type": "markdown",
   "metadata": {},
   "source": [
    "修改文件名"
   ]
  },
  {
   "cell_type": "code",
   "execution_count": null,
   "metadata": {},
   "outputs": [],
   "source": [
    "import os\n",
    "\n",
    "path = \"C:/Users/巴图/Desktop/新建文件夹/高梓函/20220508_1.jpg\"\n",
    "head_tail = os.path.split(path)\n",
    "if head_tail[1].endswith('.jpg'):   #当文件名以.txt后缀结尾时\n",
    "    old_name = head_tail[1]\n",
    "    new_name=old_name.replace('.jpg','_1.jpg')   #将原来名字里的‘.txt’替换为‘-test.txt’,相当于加个后缀了\n",
    "    os.rename(os.path.join(head_tail[0],old_name),os.path.join(head_tail[0],new_name))"
   ]
  },
  {
   "cell_type": "markdown",
   "metadata": {},
   "source": [
    "文件是否存在"
   ]
  },
  {
   "cell_type": "code",
   "execution_count": 7,
   "metadata": {},
   "outputs": [
    {
     "data": {
      "text/plain": [
       "False"
      ]
     },
     "execution_count": 7,
     "metadata": {},
     "output_type": "execute_result"
    }
   ],
   "source": [
    "import os\n",
    "os.path.exists(\"C:/Users/巴图/Desktop/新建文件夹/高梓函/20220508_1.jpg\")"
   ]
  },
  {
   "cell_type": "markdown",
   "metadata": {},
   "source": [
    "使用openpyxl获取xlsx中的数据"
   ]
  },
  {
   "cell_type": "code",
   "execution_count": null,
   "metadata": {},
   "outputs": [],
   "source": []
  },
  {
   "cell_type": "code",
   "execution_count": null,
   "metadata": {},
   "outputs": [],
   "source": [
    "from openpyxl import load_workbook\n",
    "wb = load_workbook('26.Scratch编程课程信息汇总.xlsx')\n",
    "ws = wb.active\n",
    "\n",
    "row_max = ws.max_row\n",
    "column_max = ws.max_column\n",
    "\n",
    "print(row_max)\n",
    "print(column_max)\n",
    "\n",
    "data = []\n",
    "for row in ws.iter_rows(min_row=2, max_row=35, min_col=5, max_col=8):\n",
    "    values = []\n",
    "    for cell in row:\n",
    "        values.append(cell.value)\n",
    "    data.append(values)\n",
    "# print(data)\n",
    "\n",
    "def remove_none_in_list(ori_list):\n",
    "    new_list = []\n",
    "    for item in ori_list:\n",
    "        if item != None:\n",
    "            new_list.append(item)\n",
    "    return new_list\n",
    "\n",
    "# remove_none_in_list(data)\n",
    "\n",
    "a = tuple(ws.iter_rows(min_row=2, max_row=35, min_col=5, max_col=8))\n",
    "\n",
    "for x in [0,2,3]:\n",
    "    b = a[0][x].value\n",
    "    print()\n",
    "    print(b)\n"
   ]
  }
 ],
 "metadata": {
  "kernelspec": {
   "display_name": "Python 3.10.4 ('venv': venv)",
   "language": "python",
   "name": "python3"
  },
  "language_info": {
   "codemirror_mode": {
    "name": "ipython",
    "version": 3
   },
   "file_extension": ".py",
   "mimetype": "text/x-python",
   "name": "python",
   "nbconvert_exporter": "python",
   "pygments_lexer": "ipython3",
   "version": "3.10.4"
  },
  "orig_nbformat": 4,
  "vscode": {
   "interpreter": {
    "hash": "ae8b7ff38775a72fbfd0dd9895c8587a0406c67585e1fd717d7a04ae442ddceb"
   }
  }
 },
 "nbformat": 4,
 "nbformat_minor": 2
}
