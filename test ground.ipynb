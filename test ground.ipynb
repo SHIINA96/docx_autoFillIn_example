{
 "cells": [
  {
   "cell_type": "markdown",
   "metadata": {},
   "source": [
    "os.path.split 的使用方法"
   ]
  },
  {
   "cell_type": "code",
   "execution_count": null,
   "metadata": {},
   "outputs": [],
   "source": [
    "import os\n",
    "\n",
    "path = 'C:/Users/xxx/Desktop/新建文件夹/12/aa123.pdf'\n",
    "head_tail = os.path.split(path)\n",
    "\n",
    "print(\"Head of '% s:'\" % path, head_tail[0]) \n",
    "print(\"Tail of '% s:'\" % path, head_tail[1], \"\\n\") \n",
    "print(type(head_tail))"
   ]
  },
  {
   "cell_type": "markdown",
   "metadata": {},
   "source": [
    "使用 os.path.splitext 进一步分离地址下的文件名与后缀名"
   ]
  },
  {
   "cell_type": "code",
   "execution_count": null,
   "metadata": {},
   "outputs": [],
   "source": [
    "import os\n",
    "\n",
    "path = 'C:/Users/xxx/Desktop/新建文件夹/12/ab123.pdf'\n",
    "head_tail = os.path.split(path)\n",
    "\n",
    "file_type = os.path.splitext(head_tail[1])\n",
    "print(\"Head of '% s:'\" % path, file_type[0]) \n",
    "print(\"Tail of '% s:'\" % path, file_type[1], \"\\n\") \n",
    "print(type(file_type))"
   ]
  },
  {
   "cell_type": "markdown",
   "metadata": {},
   "source": [
    "使用正则判断文件名中是否包含数字"
   ]
  },
  {
   "cell_type": "code",
   "execution_count": null,
   "metadata": {},
   "outputs": [],
   "source": [
    "import os, re\n",
    "\n",
    "path = 'C:/Users/xxx/Desktop/新建文件夹/12/ab123.pdf'\n",
    "head_tail = os.path.split(path)\n",
    "\n",
    "pattern = re.compile('[0-9]+')\n",
    "match = pattern.findall(head_tail[1])\n",
    "if match:\n",
    "    print ('contains digital')\n",
    "else:\n",
    "    print ('not contains digital')"
   ]
  },
  {
   "cell_type": "markdown",
   "metadata": {},
   "source": [
    "使用 isdigit 判断字符串是否以数字开头"
   ]
  },
  {
   "cell_type": "code",
   "execution_count": null,
   "metadata": {},
   "outputs": [],
   "source": [
    "import os\n",
    "\n",
    "path = 'C:/Users/xxx/Desktop/新建文件夹/12/ab123.pdf'\n",
    "head_tail = os.path.split(path)\n",
    "\n",
    "if head_tail[1].isdigit():\n",
    "    print('start with digit')\n",
    "else:\n",
    "    print('not start with digit')"
   ]
  },
  {
   "cell_type": "markdown",
   "metadata": {},
   "source": [
    "将文件地址拆分并获取文件夹名称"
   ]
  },
  {
   "cell_type": "code",
   "execution_count": null,
   "metadata": {},
   "outputs": [],
   "source": [
    "import os\n",
    "\n",
    "path = 'C:/Users/xxx/Desktop/新建文件夹/12/ab123.pdf'\n",
    "head_tail = os.path.split(path)\n",
    "\n",
    "head_tail = os.path.split(path)\n",
    "file_dir = head_tail[0].split('/')\n",
    "print(file_dir)\n",
    "print(file_dir[-1])"
   ]
  },
  {
   "cell_type": "markdown",
   "metadata": {},
   "source": [
    "修改文件名"
   ]
  },
  {
   "cell_type": "code",
   "execution_count": null,
   "metadata": {},
   "outputs": [],
   "source": [
    "import os\n",
    "\n",
    "path = \"C:/Users/巴图/Desktop/新建文件夹/高梓函/20220508_1.jpg\"\n",
    "head_tail = os.path.split(path)\n",
    "if head_tail[1].endswith('.jpg'):   #当文件名以.txt后缀结尾时\n",
    "    old_name = head_tail[1]\n",
    "    new_name=old_name.replace('.jpg','_1.jpg')   #将原来名字里的‘.txt’替换为‘-test.txt’,相当于加个后缀了\n",
    "    os.rename(os.path.join(head_tail[0],old_name),os.path.join(head_tail[0],new_name))"
   ]
  },
  {
   "cell_type": "markdown",
   "metadata": {},
   "source": [
    "文件是否存在"
   ]
  },
  {
   "cell_type": "code",
   "execution_count": null,
   "metadata": {},
   "outputs": [],
   "source": [
    "import os\n",
    "os.path.exists(\"C:/Users/巴图/Desktop/新建文件夹/高梓函/20220508_1.jpg\")"
   ]
  },
  {
   "cell_type": "markdown",
   "metadata": {},
   "source": [
    "使用openpyxl获取xlsx中的数据"
   ]
  },
  {
   "cell_type": "code",
   "execution_count": null,
   "metadata": {},
   "outputs": [],
   "source": [
    "from openpyxl import load_workbook\n",
    "wb = load_workbook('26.Scratch编程课程信息汇总.xlsx')\n",
    "ws = wb.active\n",
    "\n",
    "row_max = ws.max_row\n",
    "column_max = ws.max_column\n",
    "\n",
    "print(row_max)\n",
    "print(column_max)\n",
    "\n",
    "data = []\n",
    "for row in ws.iter_rows(min_row=2, max_row=35, min_col=5, max_col=8):\n",
    "    values = []\n",
    "    for cell in row:\n",
    "        values.append(cell.value)\n",
    "    data.append(values)\n",
    "# print(data)\n",
    "\n",
    "def remove_none_in_list(ori_list):\n",
    "    new_list = []\n",
    "    for item in ori_list:\n",
    "        if item != None:\n",
    "            new_list.append(item)\n",
    "    return new_list\n",
    "\n",
    "# remove_none_in_list(data)\n",
    "\n",
    "a = tuple(ws.iter_rows(min_row=2, max_row=35, min_col=5, max_col=8))\n",
    "\n",
    "for x in [0,2,3]:\n",
    "    b = a[0][x].value\n",
    "    print()\n",
    "    print(b)\n"
   ]
  },
  {
   "cell_type": "markdown",
   "metadata": {},
   "source": [
    "使用ics从iCalendar中获取日历信息"
   ]
  },
  {
   "cell_type": "code",
   "execution_count": null,
   "metadata": {},
   "outputs": [],
   "source": [
    "from ics import Calendar\n",
    "from dateutil.relativedelta import relativedelta\n",
    "import requests, datetime\n",
    "url = 'https://outlook.live.com/owa/calendar/00000000-0000-0000-0000-000000000000/1ae29d99-e0f2-4b2b-982f-1a6c2ebf884f/cid-F0D08E876E592DC1/calendar.ics'\n",
    "c = Calendar(requests.get(url).text)\n",
    "\n",
    "start_date = datetime.date(2022,5,1)\n",
    "end_date = start_date + relativedelta(months=1)\n",
    "\n",
    "e = list(c.timeline)\n",
    "\n",
    "for calender_event in e:\n",
    "    if calender_event.begin.date() > start_date and calender_event.begin.date() < end_date:\n",
    "        print(\"Event '{}' started {}\".format(calender_event.name, calender_event.begin.format('YYYY-MM-DD HH:MM')))\n",
    "        # print(type(calender_event.begin.date()))\n"
   ]
  },
  {
   "cell_type": "markdown",
   "metadata": {},
   "source": [
    "使用requests_testadapter创建本地请求，代替requests，获取本地文件"
   ]
  },
  {
   "cell_type": "code",
   "execution_count": null,
   "metadata": {},
   "outputs": [],
   "source": [
    "from requests_testadapter import Resp\n",
    "class LocalFileAdapter(requests.adapters.HTTPAdapter):\n",
    "    def build_response_from_file(self, request):\n",
    "        file_path = request.url[7:]\n",
    "        with open(file_path, 'rb') as file:\n",
    "            buff = bytearray(os.path.getsize(file_path))\n",
    "            file.readinto(buff)\n",
    "            resp = Resp(buff)\n",
    "            r = self.build_response(request, resp)\n",
    "\n",
    "            return r\n",
    "\n",
    "    def send(self, request, stream=False, timeout=None,\n",
    "             verify=True, cert=None, proxies=None):\n",
    "\n",
    "        return self.build_response_from_file(request)\n",
    "\n",
    "requests_session = requests.session()\n",
    "requests_session.mount('file://', LocalFileAdapter())\n",
    "r = requests_session.get('file://图图的课表.ics')"
   ]
  },
  {
   "cell_type": "markdown",
   "metadata": {},
   "source": [
    "从ics中获取上课记录并保存在list中"
   ]
  },
  {
   "cell_type": "code",
   "execution_count": null,
   "metadata": {},
   "outputs": [],
   "source": [
    "# 从ics中获取上课记录并保存在list中\n",
    "\n",
    "from ics import Calendar\n",
    "from dateutil.relativedelta import relativedelta\n",
    "import requests, datetime\n",
    "url = 'https://outlook.live.com/owa/calendar/3d1bd554-c7f0-49e2-996b-2cf4a6b39fa7/685e27f6-3554-4af1-b07c-4d785a347cc5/cid-28689F54F556F71F/calendar.ics'\n",
    "c = Calendar(requests.get(url).text)\n",
    "# c = Calendar(r.text)  # 使用本地ics文件访问\n",
    "\n",
    "now = datetime.datetime.now()\n",
    "year = now.year\n",
    "month = now.month\n",
    "start_date = datetime.date(2022,month,1)\n",
    "end_date = start_date + relativedelta(months=1)\n",
    "\n",
    "e = list(c.timeline)    # 日历中的全部事件\n",
    "\n",
    "class_name = [] # 获取全部的课程名称\n",
    "for calender_event in e:    # 获取选定日期的全部课程名称，并添加到列表中\n",
    "    if (calender_event.begin.date() > start_date) and (calender_event.begin.date() < end_date): # 筛选指定日期内的事件\n",
    "        # print(calender_event.name)\n",
    "        item = calender_event.name.split(' ')[0]    # 获取课程名称\n",
    "        if item not in class_name:\n",
    "            class_name.append(item)\n",
    "\n",
    "class_in_total = []\n",
    "for calender_event in e:\n",
    "    current_class = []\n",
    "    if calender_event.begin.date() > start_date and calender_event.begin.date() < end_date: # 筛选指定日期内的事件\n",
    "        try:\n",
    "            c1ass = calender_event.name.split(' ')[0]\n",
    "            student = len(calender_event.name.split(' ')[1:])\n",
    "            class_date = calender_event.begin.format('YYYY-MM-DD HH:mm').split(' ')[0]\n",
    "            class_time = calender_event.begin.format('YYYY-MM-DD HH:mm').split(' ')[1]\n",
    "            current_class.append(c1ass)\n",
    "            current_class.append(class_date)\n",
    "            current_class.append(class_time)\n",
    "            current_class.append(student)\n",
    "            # print(current_class)\n",
    "            # print(c1ass)   # 课程名称\n",
    "            # print(student)   # 学生名称\n",
    "            # print(calender_event.begin.format('YYYY-MM-DD HH:mm:ss'))   # 课程时间\n",
    "        except IndexError:\n",
    "            pass\n",
    "            # print(calender_event.name.split(' ')[0])   # 课程名称\n",
    "            # print(calender_event.begin.format('YYYY-MM-DD HH:mm:ss'))   # 课程时间\n",
    "\n",
    "        class_in_total.append(current_class)\n",
    "class_in_total.sort()\n",
    "# print(class_in_total)\n",
    "print('日历中共有'+str(len(class_in_total))+'项日程')"
   ]
  },
  {
   "cell_type": "markdown",
   "metadata": {},
   "source": [
    "将列表中的课程导入至课时统计表中"
   ]
  },
  {
   "cell_type": "code",
   "execution_count": 26,
   "metadata": {},
   "outputs": [],
   "source": [
    "# 将列表中的课程导入至课时统计表中\n",
    "\n",
    "from openpyxl import load_workbook\n",
    "import os\n",
    "\n",
    "wb = load_workbook(filename = '教师课时统计表模板.xlsx')\n",
    "ws = wb.active\n",
    "\n",
    "cols = {'启蒙':2, '玛塔':5, '程小奔':5, '探究':8, '工程':11, 'Scratch':14, 'Python':14, '南开':17, '普林斯顿':17, '博苑澳森':17}\n",
    "\n",
    "def insert_course_information(calender_list_item, course):  # \n",
    "    time_value = datetime.datetime.strptime(calender_list_item[1],'%Y-%m-%d')\n",
    "    time_value = time_value.strftime('%m月%d日')\n",
    "    if calender_list_item[0] == course:\n",
    "        row = 5\n",
    "        col = cols[course]\n",
    "        while ws.cell(row=row, column=col).value != None :\n",
    "            # print(str(row) + ' ' +str(col) + ' is not empty')\n",
    "            row += 1\n",
    "            if ws.cell(row=row, column=col).value == None:\n",
    "                break\n",
    "        if course in ('南开','普林斯顿','博苑澳森'):    # 课程格式不同\n",
    "            ws.cell(row=row, column=col, value=course)\n",
    "            ws.cell(row=row, column=col+1, value=time_value)\n",
    "            ws.cell(row=row, column=col+2, value=calender_list_item[2])\n",
    "            ws.cell(row=row, column=col+3, value=calender_list_item[3])\n",
    "            row += 1\n",
    "            wb.save(filename='教师课时统计表模板.xlsx')\n",
    "        else:\n",
    "            ws.cell(row=row, column=col, value=time_value)\n",
    "            ws.cell(row=row, column=col+1, value=calender_list_item[2])\n",
    "            ws.cell(row=row, column=col+2, value=calender_list_item[3])\n",
    "            row += 1\n",
    "            wb.save(filename='教师课时统计表模板.xlsx')\n",
    "\n",
    "for item in class_in_total:\n",
    "    insert_course_information(item, item[0])\n",
    "\n",
    "new_file_name = '图图'+str(year)+'年'+str(month)+'月课时统计.xlsx'\n",
    "os.rename('教师课时统计表模板.xlsx', new_file_name)"
   ]
  },
  {
   "cell_type": "markdown",
   "metadata": {},
   "source": [
    "将NAS中照片的后缀名统一修改为'.jpg'"
   ]
  },
  {
   "cell_type": "code",
   "execution_count": 1,
   "metadata": {},
   "outputs": [],
   "source": [
    "import os\n",
    "\n",
    "pic_type = ['.jpg','.JPG','.JPEG','.jpeg']\n",
    "path = \"//ikesi-server/图图/传输\"\n",
    "\n",
    "for file in os.listdir(path):\n",
    "    pic_path = os.path.join(path,file)\n",
    "    # print(os.path.splitext(pic_path)[1])\n",
    "    if os.path.splitext(pic_path)[1] in pic_type:\n",
    "        # print(os.path.splitext(pic_path))\n",
    "        new_name = os.path.splitext(pic_path)[0] + '.jpg'\n",
    "        os.replace(pic_path,new_name)\n",
    "        "
   ]
  },
  {
   "cell_type": "markdown",
   "metadata": {},
   "source": [
    "使用python-docx读取文件"
   ]
  },
  {
   "cell_type": "code",
   "execution_count": null,
   "metadata": {},
   "outputs": [],
   "source": [
    "from docx import Document\n",
    "\n",
    "doc=Document('高和萱程小奔20210408课评报告.docx')\n",
    "table = doc.tables[0]\n",
    "name = table.cell(1, 1).text\n",
    "\n",
    "print(name)"
   ]
  },
  {
   "cell_type": "markdown",
   "metadata": {},
   "source": [
    "使用python-docx添加照片至docx文档的末尾"
   ]
  },
  {
   "cell_type": "code",
   "execution_count": null,
   "metadata": {},
   "outputs": [],
   "source": [
    "# 将 1.jpg 2.jpg 3.jpg 添加到 2.docx 中\n",
    "\n",
    "from docx.shared import Cm\n",
    "from docx import Document\n",
    "\n",
    "document = Document('2.docx')\n",
    "paragraph = document.add_paragraph()\n",
    "run = paragraph.add_run()\n",
    "run.add_picture('2.jpg', width=Cm(6))\n",
    "run_2 = paragraph.add_run()\n",
    "run_2.add_picture('1.jpg', width=Cm(6))\n",
    "run_3 = paragraph.add_run()\n",
    "run_3.add_picture('3.jpg', width=Cm(6))\n",
    "document.save('demo.docx')"
   ]
  },
  {
   "cell_type": "markdown",
   "metadata": {},
   "source": [
    "使用Pillow读取照片中的信息"
   ]
  },
  {
   "cell_type": "code",
   "execution_count": null,
   "metadata": {},
   "outputs": [],
   "source": [
    "from PIL import Image\n",
    "\n",
    "picPath = 'WechatIMG417.jpeg'\n",
    "pict = Image.open(picPath)\n",
    "exif_data = pict._getexif()\n",
    "picDate = exif_data[36867]\n",
    "\n",
    "year = picDate[0:4]\n",
    "month = picDate[5:7]\n",
    "day = picDate[8:10]\n",
    "print(picDate)\n",
    "print(type(picDate))\n",
    "print(year)\n",
    "print(month)\n",
    "print(day)"
   ]
  },
  {
   "cell_type": "markdown",
   "metadata": {},
   "source": [
    "使用Pillow将方向不正确的照片文件修改为正确的方向"
   ]
  },
  {
   "cell_type": "code",
   "execution_count": null,
   "metadata": {},
   "outputs": [],
   "source": [
    "# 将照片转为默认的角度\n",
    "\n",
    "from PIL import Image, ExifTags\n",
    "\n",
    "numbers = input('numbers of pictures: ')\n",
    "\n",
    "for i in range(int(numbers)):\n",
    "    picName = input('name of pictures: ')\n",
    "    try:\n",
    "        image=Image.open(picName)\n",
    "\n",
    "        for orientation in ExifTags.TAGS.keys():\n",
    "            if ExifTags.TAGS[orientation]=='Orientation':\n",
    "                break\n",
    "        \n",
    "        exif = image._getexif()\n",
    "\n",
    "        try:\n",
    "            if exif[orientation] == 3:\n",
    "                image=image.rotate(180, expand=True)\n",
    "            elif exif[orientation] == 6:\n",
    "                image=image.rotate(270, expand=True)\n",
    "            elif exif[orientation] == 8:\n",
    "                image=image.rotate(90, expand=True)\n",
    "            print('process done!')\n",
    "        except:\n",
    "            print('no need to process!')\n",
    "\n",
    "        image.save(picName)\n",
    "        image.close()\n",
    "    except (AttributeError, KeyError, IndexError):\n",
    "        # cases: image don't have getexif\n",
    "        print('no need to process!')"
   ]
  },
  {
   "cell_type": "markdown",
   "metadata": {},
   "source": [
    "自动获取文件夹中全部照片。使用python-docx添加照片，并将宽度设置为10cm，同时修正照片的角度"
   ]
  },
  {
   "cell_type": "code",
   "execution_count": null,
   "metadata": {},
   "outputs": [],
   "source": [
    "# 自动添加多个照片到文件中\n",
    "\n",
    "from docx.shared import Cm\n",
    "from docx import Document\n",
    "from PIL import Image, ExifTags\n",
    "\n",
    "import glob, os\n",
    "\n",
    "# 自动获取当前路径\n",
    "dir_path = os.path.dirname(os.path.realpath(__file__))\n",
    "# 创建图片文件名列表\n",
    "picList = []\n",
    "\n",
    "\n",
    "# 从路径中查找 .jpg 文件\n",
    "os.chdir(dir_path)\n",
    "for file in glob.glob(\"*.PNG\"):\n",
    "    i=0\n",
    "    picList.insert(i, file)\n",
    "    print(file)\n",
    "    i = i+1\n",
    "# print(picList)\n",
    "\n",
    "\n",
    "docAddPicName = input('input documnet name: ')\n",
    "docAddPic = Document(docAddPicName+'.docx')\n",
    "paragraph = docAddPic.add_paragraph()\n",
    "\n",
    "for picName in picList:\n",
    "    # 检测图片是否需要修改角度信息\n",
    "    try:\n",
    "        image=Image.open(picName)\n",
    "        for orientation in ExifTags.TAGS.keys():\n",
    "            if ExifTags.TAGS[orientation]=='Orientation':\n",
    "                break\n",
    "        exif = image._getexif()\n",
    "        try:\n",
    "            if exif[orientation] == 3:\n",
    "                image=image.rotate(180, expand=True)\n",
    "            elif exif[orientation] == 6:\n",
    "                image=image.rotate(270, expand=True)\n",
    "            elif exif[orientation] == 8:\n",
    "                image=image.rotate(90, expand=True)\n",
    "            # print('process done!')\n",
    "        except:\n",
    "            # print('no need to process!')\n",
    "            pass\n",
    "        # 保存修改后的图片\n",
    "        image.save(picName)\n",
    "        image.close()\n",
    "        # 添加图片到文档中\n",
    "        run = paragraph.add_run()\n",
    "        run.add_picture(picName, width=Cm(10))\n",
    "        docAddPic.save('demo.docx')\n",
    "        # print('photo added!')\n",
    "\n",
    "    except (AttributeError, KeyError, IndexError):\n",
    "        # cases: image don't have getexif\n",
    "        print('no need to process!')"
   ]
  },
  {
   "cell_type": "markdown",
   "metadata": {},
   "source": [
    "使用Pillow获取照片的拍摄日期并重新命名照片文件"
   ]
  },
  {
   "cell_type": "code",
   "execution_count": null,
   "metadata": {},
   "outputs": [],
   "source": [
    "# 修改照片的名字为拍摄的日期\n",
    "\n",
    "import os\n",
    "from PIL import Image\n",
    "\n",
    "picPath = 'IMG_4093.jpg'\n",
    "pict = Image.open(picPath)\n",
    "exif_data = pict._getexif()\n",
    "picDate = exif_data[36867]\n",
    "\n",
    "year = picDate[0:4]\n",
    "month = picDate[5:7]\n",
    "day = picDate[8:10]\n",
    "print(picDate)\n",
    "print(type(picDate))\n",
    "print(year)\n",
    "print(month)\n",
    "print(day)\n",
    "\n",
    "picNameStandard = year+month+day+'_'+'1'+'.jpg'\n",
    "os.rename('IMG_4093.jpg', picNameStandard)"
   ]
  },
  {
   "cell_type": "code",
   "execution_count": null,
   "metadata": {},
   "outputs": [],
   "source": [
    "获取当前文件夹中特定类型的文件"
   ]
  },
  {
   "cell_type": "code",
   "execution_count": null,
   "metadata": {},
   "outputs": [],
   "source": [
    "import glob, os\n",
    "\n",
    "# 自动获取当前路径\n",
    "dir_path = os.path.dirname(os.path.realpath(__file__))\n",
    "\n",
    "picList = []\n",
    "# 从路径中查找 .jpg 文件\n",
    "os.chdir(dir_path)\n",
    "for file in glob.glob(\"*.jpg\"):\n",
    "    i=0\n",
    "    picList.insert(i, file)\n",
    "    print(file)\n",
    "    i = i+1\n",
    "\n",
    "print(picList)"
   ]
  },
  {
   "cell_type": "markdown",
   "metadata": {},
   "source": [
    "将当前文件夹中docx文件转换为pdf文件"
   ]
  },
  {
   "cell_type": "code",
   "execution_count": null,
   "metadata": {},
   "outputs": [],
   "source": [
    "# 将文件夹中的dcox文件转为pdf文件\n",
    "\n",
    "import os, glob, time\n",
    "from docx2pdf import convert\n",
    "\n",
    "# 自动获取当前路径\n",
    "dir_path = os.path.dirname(os.path.realpath(__file__))\n",
    "# 创建图片文件名列表\n",
    "docList = []\n",
    "\n",
    "os.chdir(dir_path)\n",
    "for file in glob.glob(\"*.docx\"):\n",
    "    i=0\n",
    "    docList.insert(i, file)\n",
    "    # prin t(file)\n",
    "    i = i+1\n",
    "\n",
    "\n",
    "for docName in docList:\n",
    "    try:\n",
    "        convert(docName)\n",
    "        print(docName + 'convert complete')\n",
    "        print('')\n",
    "        # time.sleep(5)\n",
    "    except:\n",
    "        pass\n"
   ]
  }
 ],
 "metadata": {
  "kernelspec": {
   "display_name": "Python 3.10.4 ('venv': venv)",
   "language": "python",
   "name": "python3"
  },
  "language_info": {
   "codemirror_mode": {
    "name": "ipython",
    "version": 3
   },
   "file_extension": ".py",
   "mimetype": "text/x-python",
   "name": "python",
   "nbconvert_exporter": "python",
   "pygments_lexer": "ipython3",
   "version": "3.10.4"
  },
  "orig_nbformat": 4,
  "vscode": {
   "interpreter": {
    "hash": "ae8b7ff38775a72fbfd0dd9895c8587a0406c67585e1fd717d7a04ae442ddceb"
   }
  }
 },
 "nbformat": 4,
 "nbformat_minor": 2
}
